{
 "cells": [
  {
   "cell_type": "code",
   "execution_count": 22,
   "metadata": {},
   "outputs": [],
   "source": [
    "import json\n",
    "from PIL import Image\n",
    "import matplotlib.pyplot as plt\n",
    "import os\n",
    "from tqdm import tqdm\n",
    "import numpy as np"
   ]
  },
  {
   "cell_type": "markdown",
   "metadata": {},
   "source": [
    "### preprocess"
   ]
  },
  {
   "cell_type": "code",
   "execution_count": 44,
   "metadata": {},
   "outputs": [],
   "source": [
    "visual_news_dir = \"/data3/qianqi/dataset/visual_news/origin\"\n",
    "news_clippings_dir = \"/data3/qianqi/dataset/news_clippings/data/merged_balanced\"\n",
    "evidence_dir = \"/data3/qianqi/dataset/queries_dataset\""
   ]
  },
  {
   "cell_type": "code",
   "execution_count": 45,
   "metadata": {},
   "outputs": [
    {
     "name": "stdout",
     "output_type": "stream",
     "text": [
      "1259732\n",
      "id 39136\n",
      "caption Candace Pickens and her son Zachaeus\n",
      "topic law_crime\n",
      "source washington_post\n",
      "image_path ./washington_post/images/0376/501.jpg\n",
      "article_path ./washington_post/articles/39136.txt\n"
     ]
    }
   ],
   "source": [
    "visual_news_data = json.load(open(f\"{visual_news_dir}/data.json\"))\n",
    "visual_news_data_mapping = {ann[\"id\"]: ann for ann in visual_news_data}\n",
    "print(len(visual_news_data_mapping))\n",
    "for k, v in visual_news_data_mapping[39136].items(): \n",
    "    print(k, v)\n",
    "# img = Image.open(f\"{visual_news_dir}/{visual_news_data_mapping[39136]['image_path']}\")\n",
    "# plt.imshow(img)\n",
    "# plt.axis(\"off\")\n",
    "# plt.show()"
   ]
  },
  {
   "cell_type": "code",
   "execution_count": null,
   "metadata": {},
   "outputs": [
    {
     "name": "stdout",
     "output_type": "stream",
     "text": [
      "71072\n",
      "{'id': 620701, 'image_id': 620701, 'similarity_score': 1, 'source_dataset': 2, 'falsified': False}\n",
      "Caption:  Saudi troops cheer as they ride at the back of an army truck in the southwestern province of Jizan near the border with Yemen\n",
      "Image Path:  ./guardian/images/0338/482.jpg\n",
      "Is Falsified:  False\n"
     ]
    }
   ],
   "source": [
    "news_clippings_data = json.load(open(f\"{news_clippings_dir}/train.json\"))\n",
    "news_clippings_data = news_clippings_data[\"annotations\"]\n",
    "print(len(news_clippings_data))\n",
    "print(news_clippings_data[0])\n",
    "ann = news_clippings_data[0]\n",
    "\n",
    "caption = visual_news_data_mapping[ann[\"id\"]][\"caption\"]\n",
    "image_path = visual_news_data_mapping[ann[\"image_id\"]][\"image_path\"]\n",
    "\n",
    "print(\"Caption: \", caption)\n",
    "print(\"Image Path: \", image_path)\n",
    "print(\"Is Falsified: \", ann[\"falsified\"])"
   ]
  },
  {
   "cell_type": "code",
   "execution_count": 20,
   "metadata": {},
   "outputs": [],
   "source": [
    "evidence_data = json.load(open(f\"{evidence_dir}/dataset_items_train.json\"))"
   ]
  },
  {
   "cell_type": "code",
   "execution_count": 21,
   "metadata": {},
   "outputs": [
    {
     "name": "stdout",
     "output_type": "stream",
     "text": [
      "70561\n"
     ]
    },
    {
     "name": "stderr",
     "output_type": "stream",
     "text": [
      "100%|██████████| 70561/70561 [00:03<00:00, 23248.02it/s]\n"
     ]
    }
   ],
   "source": [
    "print(len(evidence_data))\n",
    "top_k = 10\n",
    "\n",
    "evidence_captions = {}\n",
    "\n",
    "for key, data in tqdm(evidence_data.items()):\n",
    "    inv_dir = os.path.join(evidence_dir, \"merged_balanced\", data[\"inv_path\"])\n",
    "    # inverse image search\n",
    "    try:\n",
    "        captions = json.load(open(f\"{inv_dir}/captions_info\"))\n",
    "        cap_idx = json.load(open(f\"{inv_dir}/captions_to_keep_idx\"))\n",
    "        captions = [captions[\"captions\"][idx] for idx in list(cap_idx.values())[0]][:top_k]\n",
    "        evidence_captions[int(key)] = captions\n",
    "    except:\n",
    "        # no searched results available, do nothing\n",
    "        continue"
   ]
  },
  {
   "cell_type": "code",
   "execution_count": 28,
   "metadata": {},
   "outputs": [],
   "source": [
    "# 53k training data with evidence\n",
    "training_data = []\n",
    "for idx in evidence_captions:\n",
    "    ann = news_clippings_data[idx]\n",
    "    caption = visual_news_data_mapping[ann[\"id\"]][\"caption\"]\n",
    "    image_path = visual_news_data_mapping[ann[\"image_id\"]][\"image_path\"]\n",
    "    label = ann[\"falsified\"]\n",
    "    evidence = evidence_captions[idx]\n",
    "    # print(caption)\n",
    "    # print(image_path)\n",
    "    # img = Image.open(f\"{visual_news_dir}/{image_path}\")\n",
    "    # plt.imshow(img)\n",
    "    # plt.axis(\"off\")\n",
    "    # plt.show()\n",
    "    # print(evidence)\n",
    "    # print(f\"Is fake: {label}\")\n",
    "    training_data.append({\n",
    "        \"image\" : image_path,\n",
    "        \"caption\" : caption,\n",
    "        \"fake\" : label,\n",
    "        \"evidence\" : evidence\n",
    "    })"
   ]
  },
  {
   "cell_type": "code",
   "execution_count": 32,
   "metadata": {},
   "outputs": [
    {
     "name": "stdout",
     "output_type": "stream",
     "text": [
      "53316\n",
      "{'image': './guardian/images/0338/482.jpg', 'caption': 'Saudi troops cheer as they ride at the back of an army truck in the southwestern province of Jizan near the border with Yemen', 'fake': False, 'evidence': ['Inside Mazrak refugee camp, Yemen | World news | The Guardian', 'Mazrak camp in Yemen : Saudi troops cheer as they ride at the b', '/tg/ - Traditional Games', '45 KB', '&quot;friday-lunch-club&quot;: Inside Mazrak refugee camp, Yemen', 'Mazrak camp in Yemen : Saudi troops cheer as they ride at the b', 'Askeriye Platformu | TaleWorlds Forums', '9z30e.jpg', 'Saudi Army Photos and Premium High Res Pictures - Getty Images', 'Southwestern Jizan Stock-Fotos und Bilder - Getty Images']}\n",
      "0.4981056343311576 fake\n"
     ]
    }
   ],
   "source": [
    "print(len(training_data))\n",
    "print(training_data[0])\n",
    "\n",
    "print(f\"{sum([1 if d['fake'] else 0 for d in training_data]) / len(training_data)} fake\")"
   ]
  },
  {
   "cell_type": "markdown",
   "metadata": {},
   "source": [
    "### grpo"
   ]
  },
  {
   "cell_type": "code",
   "execution_count": 39,
   "metadata": {},
   "outputs": [],
   "source": [
    "visual_news_dir = \"/data3/qianqi/dataset/visual_news/origin\"\n",
    "news_clippings_dir = \"/data3/qianqi/dataset/news_clippings/data/merged_balanced\"\n",
    "evidence_dir = \"/data3/qianqi/dataset/queries_dataset\"\n",
    "\n",
    "max_evidence_len = 200\n",
    "\n",
    "def get_data(split, top_k_evidence=10):\n",
    "    visual_news_data = json.load(open(f\"{visual_news_dir}/data.json\"))\n",
    "    visual_news_data_mapping = {ann[\"id\"]: ann for ann in visual_news_data}\n",
    "\n",
    "    news_clippings_data = json.load(open(f\"{news_clippings_dir}/{split}.json\"))\n",
    "    news_clippings_data = news_clippings_data[\"annotations\"]\n",
    "\n",
    "    evidence_data = json.load(open(f\"{evidence_dir}/dataset_items_{split}.json\"))\n",
    "    evidence_captions = {}\n",
    "    for key, data in tqdm(evidence_data.items()):\n",
    "        inv_dir = os.path.join(evidence_dir, \"merged_balanced\", data[\"inv_path\"])\n",
    "        # inverse image search\n",
    "        try:\n",
    "            captions = json.load(open(f\"{inv_dir}/captions_info\"))\n",
    "            cap_idx = json.load(open(f\"{inv_dir}/captions_to_keep_idx\"))\n",
    "            captions = [captions[\"captions\"][idx][:max_evidence_len] for idx in list(cap_idx.values())[0]][:top_k_evidence]\n",
    "            evidence_captions[int(key)] = captions\n",
    "        except:\n",
    "            # no searched results available, do nothing\n",
    "            continue\n",
    "    \n",
    "    data = []\n",
    "    for idx in tqdm(evidence_captions):\n",
    "        ann = news_clippings_data[idx]\n",
    "        caption = visual_news_data_mapping[ann[\"id\"]][\"caption\"]\n",
    "        image_path = visual_news_data_mapping[ann[\"image_id\"]][\"image_path\"]\n",
    "        if ann[\"falsified\"]: gt_ans = \"No\"\n",
    "        else: gt_ans = \"Yes\"\n",
    "\n",
    "        evidence = evidence_captions[idx]\n",
    "        evidence_str = \"\"\n",
    "        for i, e in enumerate(evidence): evidence_str += f\"Evidence {i + 1}: {e}\\n\"\n",
    "        evidence_str = evidence_str.strip()\n",
    "\n",
    "        prompt = f'''Please give the authenticity of the given image-claim from <'Yes', 'No'>. Additional textual evidence collected from reverse-image search results is provided as well. They may be noisy or partly inaccurate, but often provide helpful context. \n",
    "\n",
    "Claim: \n",
    "{caption}\n",
    "\n",
    "\n",
    "Additional textual evidence: \n",
    "{evidence_str}'''\n",
    "\n",
    "        data.append({\n",
    "            \"image\" : image_path,\n",
    "            \"problem\" : prompt,\n",
    "            \"gt_ans\" : gt_ans\n",
    "        })\n",
    "    return data"
   ]
  },
  {
   "cell_type": "code",
   "execution_count": 40,
   "metadata": {},
   "outputs": [
    {
     "name": "stderr",
     "output_type": "stream",
     "text": [
      "100%|██████████| 70561/70561 [00:02<00:00, 24071.58it/s]\n",
      "100%|██████████| 53316/53316 [00:00<00:00, 100391.02it/s]\n"
     ]
    },
    {
     "name": "stdout",
     "output_type": "stream",
     "text": [
      "0.5018943656688424 true\n"
     ]
    },
    {
     "name": "stderr",
     "output_type": "stream",
     "text": [
      "100%|██████████| 6972/6972 [00:03<00:00, 2084.18it/s]\n",
      "100%|██████████| 5047/5047 [00:00<00:00, 177816.11it/s]\n"
     ]
    },
    {
     "name": "stdout",
     "output_type": "stream",
     "text": [
      "0.5028729938577373 true\n"
     ]
    },
    {
     "name": "stderr",
     "output_type": "stream",
     "text": [
      "100%|██████████| 7232/7232 [00:00<00:00, 26473.25it/s]\n",
      "100%|██████████| 5208/5208 [00:00<00:00, 198554.15it/s]"
     ]
    },
    {
     "name": "stdout",
     "output_type": "stream",
     "text": [
      "0.4988479262672811 true\n"
     ]
    },
    {
     "name": "stderr",
     "output_type": "stream",
     "text": [
      "\n"
     ]
    }
   ],
   "source": [
    "training_data = get_data(\"train\")\n",
    "print(f\"{sum([1 if d['gt_ans']== 'Yes' else 0 for d in training_data]) / len(training_data)} true\")\n",
    "validation_data = get_data(\"val\")\n",
    "print(f\"{sum([1 if d['gt_ans']== 'Yes' else 0 for d in validation_data]) / len(validation_data)} true\")\n",
    "test_data = get_data(\"test\")\n",
    "print(f\"{sum([1 if d['gt_ans']== 'Yes' else 0 for d in test_data]) / len(test_data)} true\")"
   ]
  },
  {
   "cell_type": "code",
   "execution_count": 41,
   "metadata": {},
   "outputs": [],
   "source": [
    "with open(\"train.jsonl\", 'w') as f:\n",
    "    for d in training_data: f.write(json.dumps(d) + \"\\n\")\n",
    "with open(\"val.jsonl\", 'w') as f:\n",
    "    for d in validation_data: f.write(json.dumps(d) + \"\\n\")\n",
    "with open(\"test.jsonl\", 'w') as f:\n",
    "    for d in test_data: f.write(json.dumps(d) + \"\\n\")"
   ]
  },
  {
   "cell_type": "code",
   "execution_count": 42,
   "metadata": {},
   "outputs": [
    {
     "name": "stdout",
     "output_type": "stream",
     "text": [
      "53316\n"
     ]
    }
   ],
   "source": [
    "train_data = []\n",
    "with open(\"train.jsonl\", 'r') as f:\n",
    "    for line in f:\n",
    "        train_data.append(json.loads(line))\n",
    "print(len(train_data))"
   ]
  },
  {
   "cell_type": "code",
   "execution_count": null,
   "metadata": {},
   "outputs": [],
   "source": []
  }
 ],
 "metadata": {
  "kernelspec": {
   "display_name": "Python 3",
   "language": "python",
   "name": "python3"
  },
  "language_info": {
   "codemirror_mode": {
    "name": "ipython",
    "version": 3
   },
   "file_extension": ".py",
   "mimetype": "text/x-python",
   "name": "python",
   "nbconvert_exporter": "python",
   "pygments_lexer": "ipython3",
   "version": "3.9.18"
  }
 },
 "nbformat": 4,
 "nbformat_minor": 2
}
